{
  "nbformat": 4,
  "nbformat_minor": 0,
  "metadata": {
    "colab": {
      "provenance": [],
      "toc_visible": true,
      "include_colab_link": true
    },
    "kernelspec": {
      "name": "python3",
      "display_name": "Python 3"
    },
    "language_info": {
      "name": "python"
    }
  },
  "cells": [
    {
      "cell_type": "markdown",
      "metadata": {
        "id": "view-in-github",
        "colab_type": "text"
      },
      "source": [
        "<a href=\"https://colab.research.google.com/github/rather-confused/Computer/blob/main/Group_1_Data_Analysis_and_Engineering.ipynb\" target=\"_parent\"><img src=\"https://colab.research.google.com/assets/colab-badge.svg\" alt=\"Open In Colab\"/></a>"
      ]
    },
    {
      "cell_type": "code",
      "execution_count": null,
      "metadata": {
        "id": "U5c8EEtZ_0n3",
        "colab": {
          "base_uri": "https://localhost:8080/"
        },
        "outputId": "2d6a1260-f1d8-4c9a-bddb-7961df8af796"
      },
      "outputs": [
        {
          "output_type": "stream",
          "name": "stdout",
          "text": [
            "Testing colab github feature, hi teammates :D\n"
          ]
        }
      ],
      "source": [
        "print(\"Testing colab github feature, hi teammates :D\")"
      ]
    },
    {
      "cell_type": "markdown",
      "source": [],
      "metadata": {
        "id": "dVgf3miGGzCN"
      }
    },
    {
      "cell_type": "code",
      "source": [
        "from google.colab import auth\n",
        "auth.authenticate_user()"
      ],
      "metadata": {
        "id": "cYBggFJyI67q"
      },
      "execution_count": null,
      "outputs": []
    },
    {
      "cell_type": "code",
      "source": [
        "!git clone https://github.com/rather-confused/Computer/blob/main/Group_1_Data_Analysis_and_Engineering.ipynb"
      ],
      "metadata": {
        "id": "jm27WSdHJD0r"
      },
      "execution_count": null,
      "outputs": []
    }
  ]
}